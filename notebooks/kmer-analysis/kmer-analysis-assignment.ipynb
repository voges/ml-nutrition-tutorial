{
 "cells": [
  {
   "cell_type": "markdown",
   "metadata": {},
   "source": [
    "# **DNA as a Language: _k_-mers for Sequence Analysis**"
   ]
  },
  {
   "cell_type": "markdown",
   "metadata": {},
   "source": [
    "First, let's download the data for this notebook.\n",
    "\n",
    "The following commands will download (`wget`) the file `kmer-analysis.tar.gz` and then unarchive and decompress it (`tar`), resulting in the folder `kmer-analysis/`.\n",
    "Then, the folder will be renamed (`mv`) to `data/`, and the now superfluous file `kmer-analysis.tar.gz` will be removed (`rm`)."
   ]
  },
  {
   "cell_type": "code",
   "execution_count": null,
   "metadata": {},
   "outputs": [],
   "source": [
    "! wget http://www.tnt.uni-hannover.de/edu/vorlesungen/AMLG/data/kmer-analysis.tar.gz\n",
    "! tar -xzvf kmer-analysis.tar.gz\n",
    "! mv -v kmer-analysis/ data/\n",
    "! rm -v kmer-analysis.tar.gz"
   ]
  },
  {
   "cell_type": "code",
   "execution_count": null,
   "metadata": {},
   "outputs": [],
   "source": [
    "from typing import Dict, List"
   ]
  },
  {
   "cell_type": "markdown",
   "metadata": {},
   "source": [
    "# Homologous genes"
   ]
  },
  {
   "cell_type": "markdown",
   "metadata": {},
   "source": [
    "The `data/` folder contains two subfolders: `genomes/` and `homologous-genes/`.\n",
    "The `genomes/` folder contains the reference genome of _E. coli_ strain DH10B as FASTA file `e-coli-dh10b.fasta`.\n",
    "The `homologous-genes/` folder contains 5 FASTA files.\n",
    "Each file contains sequences of one specific species:\n",
    "\n",
    "- [Human](https://en.wikipedia.org/wiki/Human) (_Homo sapiens_): `h-sapiens.fasta`\n",
    "- [Chimpanzee](https://en.wikipedia.org/wiki/Chimpanzee) (_Pan troglodytes_): `p-troglodytes.fasta`\n",
    "- [House mouse](https://en.wikipedia.org/wiki/House_mouse) (_Mus musculus_): `m-musculus.fasta`\n",
    "- [Threadworm](https://en.wikipedia.org/wiki/Caenorhabditis_elegans) (_Caenorhabditis elegans_): `c-elegans.fasta`\n",
    "- [Fruit fly](https://en.wikipedia.org/wiki/Drosophila_melanogaster) (_Drosophila melanogaster_): `d-melanogaster.fasta`\n",
    "\n",
    "The i-th sequences in the files are homologuous sequences of the same gene in the different species (i.e., they are similar due to shared ancestry)."
   ]
  },
  {
   "cell_type": "markdown",
   "metadata": {},
   "source": [
    "The following function can be used to read a FASTA file into a dictionary.\n",
    "In the dictionary, the sequence descriptions are the keys, and the actual sequences are the values."
   ]
  },
  {
   "cell_type": "code",
   "execution_count": null,
   "metadata": {},
   "outputs": [],
   "source": [
    "def read_fasta_file(file_path: str) -> Dict[str, str]:\n",
    "    with open(file=file_path, mode=\"r\") as file:\n",
    "        sequences = {}\n",
    "\n",
    "        # Read the file line by line\n",
    "        for line in file:\n",
    "            # Process each line\n",
    "            line = line.strip()\n",
    "            if line.startswith(\">\"):\n",
    "                current_description = line[1:]\n",
    "                sequences[current_description] = \"\"\n",
    "            else:\n",
    "                sequences[current_description] += line\n",
    "\n",
    "        return sequences"
   ]
  },
  {
   "cell_type": "markdown",
   "metadata": {},
   "source": [
    "##### ❓ **Q1** &mdash; Reading in multiple FASTA files"
   ]
  },
  {
   "cell_type": "markdown",
   "metadata": {},
   "source": [
    "Complete the following code to read in the 5 provided FASTA files from the `data/homologous-genes/` folder."
   ]
  },
  {
   "cell_type": "code",
   "execution_count": null,
   "metadata": {},
   "outputs": [],
   "source": [
    "import os\n",
    "\n",
    "\n",
    "def list_files_in_directory(directory: str) -> List[str]:\n",
    "    file_list = []\n",
    "\n",
    "    # Iterate over the files in the specified directory\n",
    "    for root, _, files in os.walk(top=directory):\n",
    "        # YOUR CODE\n",
    "\n",
    "    return file_list\n",
    "\n",
    "\n",
    "# Print the list of files\n",
    "for file in list_files_in_directory(directory=\"data/homologous-genes/\"):\n",
    "    sequences = read_fasta_file(file_path=file)\n",
    "    print(f\"Read {len(sequences)} sequences from '{file}': {list(sequences.keys())}\")"
   ]
  },
  {
   "cell_type": "markdown",
   "metadata": {},
   "source": [
    "# _k_-mers"
   ]
  },
  {
   "cell_type": "markdown",
   "metadata": {},
   "source": [
    "_k_-mers are substrings of length $k$ contained within a biological sequence.\n",
    "They are a fairly simple concept that turns out to be tremendously powerful.\n",
    "\n",
    "Usually, the term _k_-mer refers to all of a sequence's subsequences of length $k$.\n",
    "Using this definition, the sequence `ACGT` would have four monomers (`A`, `C`, `G`, `T`), three 2-mers (`AC`, `CG`, `GT`), two 3-mers (`ACG`, `CGT`), and one 4-mer (`ACGT`).\n",
    "More generally, a sequence of length $L$ has $L - k + 1$ _k_-mers and $n^k$ total possible _k_-mers, where $n$ is the number of possible monomers.\n",
    "\n",
    "Typically we extract _k_-mers from genomic assemblies or read data sets by running a $k$-length window across all of the sequences.\n",
    "E.g., given the sequence `AGGATGAGACAGATAG` of length 16, you could extract the following 6-mers from it:\n",
    "\n",
    "```\n",
    "AGGATG\n",
    " GGATGA\n",
    "  GATGAG\n",
    "   ATGAGA\n",
    "    TGAGAC\n",
    "     GAGACA\n",
    "      AGACAG\n",
    "       GACAGA\n",
    "        ACAGAT\n",
    "         CAGATA\n",
    "          AGATAG\n",
    "```\n",
    "\n",
    "_k_-mers are used in numerous applications, e.g.:\n",
    "\n",
    "- The frequency of a set of _k_-mers in a species's genome, in a genomic region, or in a class of sequences can be used as a \"signature\" of the underlying sequence.\n",
    "- With respect to disease, dinucleotide bias has been applied to the detection of genetic islands associated with pathogenicity.\n",
    "- _k_-mer frequency and spectrum variation is heavily used in metagenomics analysis.\n",
    "\n",
    "_k_-mers are most useful when they are long, because then they are specific.\n",
    "That is, if you have a 31-mer taken from a human genome, it is pretty unlikely that another genome has that exact 31-mer in it.\n",
    "\n",
    "> You can calculate the probability if you assume genomes are random: there are $n^k = 4^{31} = 4,611,686,018,427,387,904$ possible 31-mers&nbsp;&mdash;&nbsp;a lot.\n",
    "> The human genome has a size of $L = 3,117,275,501$.\n",
    "> We can hence extract $L - k + 1 = 3,117,275,501 - 31 + 1 = 3,117,275,471$ 31-mers from it.\n",
    "> The probability that a random genome contains a specific 31-mer is hence $\\frac{3,117,275,471}{4,611,686,018,427,387,904} \\approx 0.0000000006$.\n",
    ">\n",
    "> An extension of this observation is that long _k_-mers are species specific."
   ]
  },
  {
   "cell_type": "markdown",
   "metadata": {},
   "source": [
    "##### ❓ **Q2** &mdash; Building _k_-mers"
   ]
  },
  {
   "cell_type": "markdown",
   "metadata": {},
   "source": [
    "Complete the function `build_kmers()`.\n",
    "The function shall do two things:\n",
    "\n",
    "1. Build a list of _k_-mers for the given `sequence`.\n",
    "2. Count the frequency of each _k_-mer.\n",
    "\n",
    "As an example, for the `sequence = \"GATTACA\"` the function shall return `kmers = ['GAT', 'ATT', 'TTA', 'TAC', 'ACA', 'CAC', 'ACA']` and `kmer_counts = {'GAT': 1, 'ATT': 1, 'TTA': 1, 'TAC': 1, 'ACA': 2, 'CAC': 1}`."
   ]
  },
  {
   "cell_type": "code",
   "execution_count": null,
   "metadata": {},
   "outputs": [],
   "source": [
    "def build_kmers(sequence: str, k: int) -> (List[str], Dict[str, int]):\n",
    "    kmers = []\n",
    "    kmer_counts = {}\n",
    "\n",
    "    # YOUR CODE\n",
    "\n",
    "    return kmers, kmer_counts\n",
    "\n",
    "\n",
    "kmers, kmer_counts = build_kmers(sequence=\"GATTACACA\", k=3)\n",
    "\n",
    "print(kmers)\n",
    "print(kmer_counts)"
   ]
  },
  {
   "cell_type": "markdown",
   "metadata": {},
   "source": [
    "# The _k_-mer spectrum"
   ]
  },
  {
   "cell_type": "markdown",
   "metadata": {},
   "source": [
    "A method of visualizing _k_-mers, the _k_-mer spectrum, shows the multiplicity of each _k_-mer in a sequence versus the number of _k_-mers with that multiplicity.\n",
    "The number of modes in a _k_-mer spectrum for a species' genome varies, with most species having a unimodal distribution.\n",
    "However, all mammals have a multimodal distribution."
   ]
  },
  {
   "cell_type": "markdown",
   "metadata": {},
   "source": [
    "##### ❓ **Q3** &mdash; Computing a _k_-mer spectrum"
   ]
  },
  {
   "cell_type": "markdown",
   "metadata": {},
   "source": [
    "Compute and plot the 7-mer spectrum of the provided _E. coli_ genome.\n",
    "Here we use the DH10B strain, a widely used model organism.\n",
    "\n",
    "> This [_E. coli_ genome](https://www.ncbi.nlm.nih.gov/nuccore/NZ_CP110018.1/) and others can be downloaded from the [NCBI](https://www.ncbi.nlm.nih.gov)."
   ]
  },
  {
   "cell_type": "code",
   "execution_count": null,
   "metadata": {},
   "outputs": [],
   "source": [
    "ecoli_genome = read_fasta_file(file_path=\"data/genomes/e-coli-dh10b.fasta\")\n",
    "ecoli_genome_sequence = ecoli_genome[\n",
    "    \"NZ_CP110018.1 Escherichia coli strain DH10B chromosome, complete genome\"\n",
    "]\n",
    "print(f\"Read E. coli genome with length {len(ecoli_genome_sequence):,}.\")"
   ]
  },
  {
   "cell_type": "code",
   "execution_count": null,
   "metadata": {},
   "outputs": [],
   "source": [
    "current_k = 7\n",
    "ecoli_kmers, ecoli_kmer_counts = build_kmers(\n",
    "    sequence=ecoli_genome_sequence, k=current_k\n",
    ")\n",
    "# YOUR CODE"
   ]
  },
  {
   "cell_type": "code",
   "execution_count": null,
   "metadata": {},
   "outputs": [],
   "source": [
    "import matplotlib.pyplot as plt\n",
    "\n",
    "plt.figure(figsize=(12, 4))\n",
    "# YOUR CODE\n",
    "plt.title(label=f\"{current_k}-mer spectrum of {list(ecoli_genome.keys())[0]}\")\n",
    "plt.xlabel(\"frequency\")\n",
    "plt.ylabel(\"count\")\n",
    "plt.show()"
   ]
  },
  {
   "cell_type": "markdown",
   "metadata": {},
   "source": [
    "# The Jaccard index"
   ]
  },
  {
   "cell_type": "markdown",
   "metadata": {},
   "source": [
    "One thing we can do is to use _k_-mers to compare genomes to genomes, or read data sets to read data sets.\n",
    "\n",
    "One metric we can use for this comparisons is the Jaccard index, which is calculated by asking how many _k_-mers are shared between two samples (expressed as the cardinality of the intersection of the two _k_-mer sets) versus how many _k_-mers in total are in the combined samples (expressed as the cardinality of the union of the two _k_-mer sets):\n",
    "\n",
    "$$J(A,B) = \\frac{|A \\cap B|}{|A \\cup B|}$$\n",
    "\n",
    "<img src=\"images/intersection.png\" width=\"200\" />\n",
    "<img src=\"images/union.png\" width=\"200\" />"
   ]
  },
  {
   "cell_type": "markdown",
   "metadata": {},
   "source": [
    "##### ❓ **Q4** &mdash; Computing the Jaccard index"
   ]
  },
  {
   "cell_type": "markdown",
   "metadata": {},
   "source": [
    "Complete the function `jaccard_index()` for the computation of the Jaccard index of two sets `a` and `b`."
   ]
  },
  {
   "cell_type": "code",
   "execution_count": null,
   "metadata": {},
   "outputs": [],
   "source": [
    "def jaccard_index(a: set, b: set) -> float:\n",
    "    if not a and not b:\n",
    "        return None\n",
    "\n",
    "    # YOUR CODE"
   ]
  },
  {
   "cell_type": "code",
   "execution_count": null,
   "metadata": {},
   "outputs": [],
   "source": [
    "test_strings = [\n",
    "    (\"\", \"\"),\n",
    "    (\"\", \"A\"),\n",
    "    (\"A\", \"A\"),\n",
    "    (\"A\", \"C\"),\n",
    "    (\"AC\", \"GT\"),\n",
    "    (\"ACG\", \"GT\"),\n",
    "    (\"ACG\", \"CGT\"),\n",
    "]\n",
    "\n",
    "# Transform the list into a list of tuples of sets\n",
    "test_sets = [(set(item1), set(item2)) for item1, item2 in test_strings]\n",
    "\n",
    "# Compute and print the Jaccard indexes\n",
    "for set_a, set_b in test_sets:\n",
    "    print(f\"J({set_a}, {set_b}) = {jaccard_index(a=set_a, b=set_b)}\")"
   ]
  },
  {
   "cell_type": "markdown",
   "metadata": {},
   "source": [
    "##### ❓ **Q5** &mdash; Similarity of homologous genes"
   ]
  },
  {
   "cell_type": "markdown",
   "metadata": {},
   "source": [
    "Now, let's compare the similarity of homologous genes in different species:\n",
    "\n",
    "1. Compute all 10-mers for the DNA sequence of the pyruvate kinase gene in _H. sapiens_ and _P. troglodytes_.\n",
    "2. Then, compute the Jaccard index between the two 10-mer sets."
   ]
  },
  {
   "cell_type": "code",
   "execution_count": null,
   "metadata": {},
   "outputs": [],
   "source": [
    "# YOUR CODE\n",
    "\n",
    "print(\n",
    "    f\"J = {jaccard_index(a=set(human_pyruvate_kinase_kmers), b=set(chimp_pyruvate_kinase_kmers))}\"\n",
    ")"
   ]
  },
  {
   "cell_type": "markdown",
   "metadata": {},
   "source": [
    "##### ❓ **Q6** &mdash; Comparison of homologous genes across species"
   ]
  },
  {
   "cell_type": "markdown",
   "metadata": {},
   "source": [
    "Now, iterate through all genes and compute the Jaccard indexes between all possible species-species pairs of _k_-mer sets.\n",
    "\n",
    "Store the computed Jaccard indexes in a similarity array with the dimensions `shape=[n_genes, n_species, n_species]`.\n",
    "\n",
    "Use varying values for $k$.\n",
    "(A good starting point is $k = 4$.)"
   ]
  },
  {
   "cell_type": "code",
   "execution_count": null,
   "metadata": {},
   "outputs": [],
   "source": [
    "import numpy as np\n",
    "\n",
    "current_k = 4\n",
    "\n",
    "# Read in all gene sequences for all species\n",
    "file_list = list_files_in_directory(directory=\"data/homologous-genes/\")\n",
    "all_sequences = {}\n",
    "for file in file_list:\n",
    "    species = os.path.splitext(os.path.basename(file))[0]\n",
    "    sequences = read_fasta_file(file_path=file)\n",
    "    all_sequences[species] = sequences\n",
    "\n",
    "# Get all gene names\n",
    "gene_names = list(all_sequences[list(all_sequences.keys())[0]].keys())\n",
    "n_genes = len(gene_names)\n",
    "\n",
    "# Get all species\n",
    "speciess = list(all_sequences.keys())\n",
    "n_species = len(speciess)\n",
    "\n",
    "# Set up the similarity matrix\n",
    "similarity_matrix = np.zeros(shape=[n_genes, n_species, n_species])\n",
    "\n",
    "# YOUR CODE"
   ]
  }
 ],
 "metadata": {
  "kernelspec": {
   "display_name": "amlg",
   "language": "python",
   "name": "python3"
  },
  "language_info": {
   "codemirror_mode": {
    "name": "ipython",
    "version": 3
   },
   "file_extension": ".py",
   "mimetype": "text/x-python",
   "name": "python",
   "nbconvert_exporter": "python",
   "pygments_lexer": "ipython3",
   "version": "3.11.6"
  }
 },
 "nbformat": 4,
 "nbformat_minor": 2
}
