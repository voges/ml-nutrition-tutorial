{
 "cells": [
  {
   "cell_type": "markdown",
   "metadata": {},
   "source": [
    "# **Exploring a Multimodal Nutritional Data Set**"
   ]
  }
 ],
 "metadata": {
  "kernelspec": {
   "display_name": "ml-nutrition-tutorial",
   "language": "python",
   "name": "python3"
  },
  "language_info": {
   "name": "python",
   "version": "3.12.2"
  }
 },
 "nbformat": 4,
 "nbformat_minor": 2
}
