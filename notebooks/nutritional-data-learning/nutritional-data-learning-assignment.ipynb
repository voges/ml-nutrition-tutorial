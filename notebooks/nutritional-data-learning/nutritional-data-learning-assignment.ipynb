{
 "cells": [
  {
   "cell_type": "markdown",
   "metadata": {},
   "source": [
    "# **Exploring a Multimodal Nutritional Data Set**"
   ]
  },
  {
   "cell_type": "markdown",
   "metadata": {},
   "source": [
    "This exercise provides a practical example of how a dataset from a real nutritional study could be analyzed and explored using basic statistical and machine learning techniques.\n",
    "The primary goal is to identify features that significantly influence an observed nutritional effect within the study.\n",
    "By applying these techniques, we aim to uncover the key factors that contribute to the outcomes, helping to enhance our understanding of nutritional impacts and guide future research.\n",
    "Specifically, the small size of the dataset is a challenge here.\n",
    "\n",
    "The dataset we are analyzing is derived from the 2023 study \"[Distinct Microbial Taxa Are Associated with LDL-Cholesterol Reduction after 12 Weeks of Lactobacillus plantarum Intake in Mild Hypercholesterolemia: Results of a Randomized Controlled Study](https://doi.org/10.1007/s12602-023-10191-2)\".\n",
    "The study investigates the effects of probiotic bacteria on individuals with mildly elevated LDL cholesterol levels.\n",
    "Key data collected includes LDL cholesterol levels before and after the 12-week study period, along with various patient features recorded at the study's onset.\n",
    "\n",
    "Our analytical goal is to identify which key features might be linked to a significant reduction in LDL cholesterol.\n",
    "Data from the placebo group or from participants who left the study during execution have already been removed."
   ]
  },
  {
   "cell_type": "markdown",
   "metadata": {},
   "source": [
    "## Preprocessing"
   ]
  },
  {
   "cell_type": "code",
   "execution_count": null,
   "metadata": {},
   "outputs": [],
   "source": [
    "from typing import Dict"
   ]
  },
  {
   "cell_type": "markdown",
   "metadata": {},
   "source": [
    "### Identifying correlations in the data"
   ]
  },
  {
   "cell_type": "markdown",
   "metadata": {},
   "source": [
    "In this section, we start by identifying the features of the multimodal nutritional dataset and determining the number of samples.\n",
    "Understanding the structure and volume of our dataset is essential for guiding our preprocessing and analysis efforts.\n",
    "\n",
    "We will analyze how features in our dataset are correlated by generating a heat map.\n",
    "This color-coded representation will help us identify strong correlations, revealing potential relationships between different features.\n",
    "Identifying correlated features is crucial because we plan to use a random forest model to infer feature importance.\n",
    "Highly correlated features can lead to inconsistent results in such models due to redundancy.\n",
    "To maintain the robustness of our analysis, we will remove or combine features that are highly correlated."
   ]
  },
  {
   "cell_type": "markdown",
   "metadata": {},
   "source": [
    "##### ❓ **Q1** &mdash; Pearson correlation coefficients"
   ]
  },
  {
   "cell_type": "markdown",
   "metadata": {},
   "source": [
    "Calculate the Pearson [correlation](https://pandas.pydata.org/docs/reference/api/pandas.DataFrame.corr.html) coefficients for each pair of features and plot them as a [heat map](https://seaborn.pydata.org/generated/seaborn.heatmap.html)."
   ]
  },
  {
   "cell_type": "code",
   "execution_count": null,
   "metadata": {},
   "outputs": [],
   "source": [
    "import pandas as pd\n",
    "import seaborn as sns\n",
    "\n",
    "\n",
    "def load_dataset(file_path: str) -> pd.DataFrame:\n",
    "    df = pd.read_csv(filepath_or_buffer=file_path)\n",
    "    df.replace(to_replace=\"NA\", value=pd.NA)\n",
    "    return df\n",
    "\n",
    "\n",
    "def plot_correlations(dataset: pd.DataFrame, corr_thresh: float) -> None:\n",
    "    corr_matrix = # YOUR CODE\n",
    "    high_corr_matrix = corr_matrix[corr_matrix > corr_thresh]\n",
    "    sns.heatmap(data=high_corr_matrix, cmap=\"coolwarm\")"
   ]
  },
  {
   "cell_type": "code",
   "execution_count": null,
   "metadata": {},
   "outputs": [],
   "source": [
    "dataset = load_dataset(file_path=\"responder.csv\")\n",
    "plot_correlations(dataset=dataset, corr_thresh=0.5)"
   ]
  },
  {
   "cell_type": "markdown",
   "metadata": {},
   "source": [
    "### Data imputation"
   ]
  },
  {
   "cell_type": "markdown",
   "metadata": {},
   "source": [
    "Handling missing data is a common challenge in dataset preparation, especially when preparing data for training models.\n",
    "Ideally, we could exclude all samples with missing features to ensure data cleanliness, but this is not feasible due to the already limited size of our dataset.\n",
    "Removing too many samples could significantly impact the validity and generalizability of our model.\n",
    "\n",
    "As an alternative, we will employ data imputation to fill in the missing values using the existing data, ensuring minimal distortion of the dataset.\n",
    "This method allows us to retain as much data as possible while addressing the gaps in information.\n",
    "\n",
    "There are various techniques for data imputation, but for simplicity and effectiveness, we will use the median value of each feature to replace missing values.\n",
    "Using the median is robust against outliers and helps maintain the distributional characteristics of the dataset, making it a suitable choice for our purposes."
   ]
  },
  {
   "cell_type": "code",
   "execution_count": null,
   "metadata": {},
   "outputs": [],
   "source": [
    "def count_nans(dataset: pd.DataFrame) -> None:\n",
    "    # Count the number of NaN values in each column\n",
    "    nan_counts = dataset.isna().sum()\n",
    "\n",
    "    # Filter and print the counts where they are not zero\n",
    "    print(\"Counts of 'NaN' values in each column where they exist:\")\n",
    "    for column, count in nan_counts.items():\n",
    "        if count > 0:\n",
    "            print(f\"  {column}: {count}\")\n",
    "\n",
    "\n",
    "def impute_dataset(dataset: pd.DataFrame) -> pd.DataFrame:\n",
    "    return dataset.fillna(dataset.median())"
   ]
  },
  {
   "cell_type": "code",
   "execution_count": null,
   "metadata": {},
   "outputs": [],
   "source": [
    "dataset = load_dataset(file_path=\"responder.csv\")\n",
    "dataset_imputed = impute_dataset(dataset=dataset)\n",
    "\n",
    "count_nans(dataset=dataset)\n",
    "count_nans(dataset=dataset_imputed)"
   ]
  },
  {
   "cell_type": "markdown",
   "metadata": {},
   "source": [
    "### Data standardization"
   ]
  },
  {
   "cell_type": "markdown",
   "metadata": {},
   "source": [
    "The analysis of boxplots has revealed significant variation in the range of values across different features in our dataset.\n",
    "For instance, the feature representing sex ranges from 0 to 1, while age is predominantly above 60.\n",
    "These disparities in scale can pose challenges in modeling, as features with larger ranges might disproportionately influence the results.\n",
    "\n",
    "To address this issue and ensure each feature contributes equally to the analysis, we will standardize the features.\n",
    "Standardization involves rescaling the data so that each feature has a mean of zero and a standard deviation of approximately one.\n",
    "This process transforms each feature into a scale where the values represent \"more of that feature\" or \"less of that feature.\"\n",
    "\n",
    "By standardizing the features, we eliminate the problem of differing scales and make the dataset more suitable for sophisticated statistical techniques and machine learning models, which often assume data is normally distributed around zero.\n",
    "This step is crucial for fair comparison and effective integration of features in our analyses."
   ]
  },
  {
   "cell_type": "markdown",
   "metadata": {},
   "source": [
    "##### ❓ **Q2** &mdash; Data standardization"
   ]
  },
  {
   "cell_type": "markdown",
   "metadata": {},
   "source": [
    "Use scikit-learn's [StandardScaler](https://scikit-learn.org/stable/modules/generated/sklearn.preprocessing.StandardScaler.html) to standardize the dataset."
   ]
  },
  {
   "cell_type": "code",
   "execution_count": null,
   "metadata": {},
   "outputs": [],
   "source": [
    "from sklearn.preprocessing import StandardScaler\n",
    "\n",
    "\n",
    "def standardize_dataset(dataset: pd.DataFrame) -> pd.DataFrame:\n",
    "    # YOUR CODE"
   ]
  },
  {
   "cell_type": "code",
   "execution_count": null,
   "metadata": {},
   "outputs": [],
   "source": [
    "dataset = load_dataset(file_path=\"responder.csv\")\n",
    "dataset_imputed = impute_dataset(dataset=dataset)\n",
    "dataset_standardized = standardize_dataset(dataset=dataset_imputed)"
   ]
  },
  {
   "cell_type": "markdown",
   "metadata": {},
   "source": [
    "To better understand the distribution and range of values for each feature in our dataset, we will utilize boxplots.\n",
    "Boxplots are an excellent tool for visually summarizing the central tendency, variability, and presence of outliers within each feature.\n",
    "\n",
    "By analyzing these boxplots, we can quickly gauge the spread of the data, identify any features with extreme values, and determine how these outliers might affect the overall analysis.\n",
    "This visualization step is crucial for ensuring that we fully comprehend the data's characteristics before proceeding with more complex analyses and modeling."
   ]
  },
  {
   "cell_type": "code",
   "execution_count": null,
   "metadata": {},
   "outputs": [],
   "source": [
    "dataset.plot(kind=\"box\", vert=False)\n",
    "dataset_standardized.plot(kind=\"box\", vert=False)"
   ]
  },
  {
   "cell_type": "markdown",
   "metadata": {},
   "source": [
    "### Dropping redundant features"
   ]
  },
  {
   "cell_type": "markdown",
   "metadata": {},
   "source": [
    "As observed from the heat map, our dataset contains several highly correlated features.\n",
    "Some of these correlations are quite straightforward, such as total cholesterol being correlated with LDL and HDL cholesterol levels.\n",
    "Others, while less direct, are still plausible; for example, arterial stiffness shows a correlation with age, and dietary energy intake varies significantly with sex.\n",
    "\n",
    "Given these observations, our next step in preprocessing is to streamline the dataset by removing redundant features.\n",
    "By eliminating features that are already expressed through others, we can simplify the model's complexity without losing crucial information.\n",
    "This reduction not only enhances the performance of our future analyses but also helps in achieving more accurate and interpretable results from the random forest model."
   ]
  },
  {
   "cell_type": "code",
   "execution_count": null,
   "metadata": {},
   "outputs": [],
   "source": [
    "def remove_redundant_features(\n",
    "    dataset: pd.DataFrame,\n",
    ") -> tuple[pd.DataFrame, pd.DataFrame]:\n",
    "    labels = dataset.ldl_cholesterin_reduction\n",
    "\n",
    "    redundant_features = [\n",
    "        \"arterial_stiffness\",\n",
    "        \"waist_hip_ratio\",\n",
    "        \"diet_energy\",\n",
    "        \"diet_mediterenian_score\",\n",
    "        \"blood_pressure_systolic\",\n",
    "        \"diet_carb\",\n",
    "        \"diet_unsaturated_fat\",\n",
    "        \"blood_ldl_cholesterol\",\n",
    "        \"blood_hdl_cholesterol\",\n",
    "        \"ldl_cholesterin_reduction\",  # Remove label to prevent data leakage\n",
    "    ]\n",
    "\n",
    "    dataset_wo_redundancy = dataset.drop(labels=redundant_features, axis=1)\n",
    "\n",
    "    return labels, dataset_wo_redundancy"
   ]
  },
  {
   "cell_type": "code",
   "execution_count": null,
   "metadata": {},
   "outputs": [],
   "source": [
    "def preprocess_dataset(dataset: pd.DataFrame) -> tuple[pd.DataFrame, pd.DataFrame]:\n",
    "    dataset_imputed = impute_dataset(dataset=dataset)\n",
    "    dataset_standardized = standardize_dataset(dataset=dataset_imputed)\n",
    "    labels, dataset_wo_redundancy = remove_redundant_features(\n",
    "        dataset=dataset_standardized\n",
    "    )\n",
    "    return labels, dataset_wo_redundancy"
   ]
  },
  {
   "cell_type": "code",
   "execution_count": null,
   "metadata": {},
   "outputs": [],
   "source": [
    "dataset = load_dataset(file_path=\"responder.csv\")\n",
    "labels, dataset_preprocessed = preprocess_dataset(dataset=dataset)\n",
    "\n",
    "labels.plot(kind=\"box\", vert=False)\n",
    "dataset_preprocessed.plot(kind=\"box\", vert=False)"
   ]
  },
  {
   "cell_type": "markdown",
   "metadata": {},
   "source": [
    "## Random forest model & feature importance"
   ]
  },
  {
   "cell_type": "markdown",
   "metadata": {},
   "source": [
    "### Decision trees"
   ]
  },
  {
   "cell_type": "markdown",
   "metadata": {},
   "source": [
    "A decision tree is a machine learning model that uses a series of decisions to split data into branches and leaves.\n",
    "At each node of the tree, a decision is made based on a feature, directing the data down the appropriate branch until a prediction is made at a leaf node.\n",
    "\n",
    "This model is straightforward and mimics human decision-making, making it easy to understand and interpret.\n",
    "However, decision trees can overfit if they grow too deep or complex, meaning they may not generalize well to new data.\n",
    "They are versatile for both classification and regression tasks but are often used within ensemble methods like random forest to enhance their accuracy and robustness."
   ]
  },
  {
   "cell_type": "markdown",
   "metadata": {},
   "source": [
    "### Random forests"
   ]
  },
  {
   "cell_type": "markdown",
   "metadata": {},
   "source": [
    "A random forest is an ensemble machine learning method that improves upon the simplicity of decision trees by creating a \"forest\" of them and aggregating their outputs.\n",
    "This model works by constructing multiple decision trees during training, each on a slightly different subset of the data and features.\n",
    "This technique, known as bootstrap aggregating or \"bagging,\" helps in reducing the model's variance.\n",
    "\n",
    "When making predictions, a random forest takes the outputs from all the individual trees and combines them to produce a more accurate and stable prediction.\n",
    "For classification tasks, this typically means taking a majority vote among the predictions from all trees.\n",
    "For regression tasks, it usually involves averaging the outputs.\n",
    "\n",
    "The strength of a random forest lies in its ability to perform well on complex datasets with minimal tuning while avoiding overfitting, a common problem with individual decision trees.\n",
    "This robustness, combined with its straightforward interpretability (where the importance of features can be easily evaluated), make random forest models a popular choice for many predictive modeling tasks.\n",
    "\n",
    "<img src=\"Random_forest_explain.png\" width=\"800\" />"
   ]
  },
  {
   "cell_type": "markdown",
   "metadata": {},
   "source": [
    "### Feature importance"
   ]
  },
  {
   "cell_type": "markdown",
   "metadata": {},
   "source": [
    "Feature importance in a random forest provides insights into which features are most influential in making predictions.\n",
    "This method evaluates the impact of each feature on the accuracy of the model by observing how random alterations to feature values affect the model's performance.\n",
    "\n",
    "In a random forest, feature importance is typically measured by the average decrease in impurity (such as Gini impurity or entropy) across all trees in the forest when a feature is used to split the data.\n",
    "Alternatively, it can be assessed by examining the increase in prediction error when values of a feature are permuted, which disrupts the relationship between the feature and the target.\n",
    "\n",
    "This approach helps in identifying features that contribute significantly to the decision-making process of the model, allowing for better understanding and optimization of the model.\n",
    "Feature importance is valuable for feature selection, providing a way to remove irrelevant or less important features and potentially improve model performance."
   ]
  },
  {
   "cell_type": "markdown",
   "metadata": {},
   "source": [
    "## Building a model to predict LDL cholesterol reduction"
   ]
  },
  {
   "cell_type": "markdown",
   "metadata": {},
   "source": [
    "To develop a predictive model for LDL cholesterol reduction based on our nutritional study data, we will follow several key steps:\n",
    "\n",
    "1. **Splitting the dataset into training and test sets**:\n",
    "Before training our model, we must split the dataset into a training set and a test set.\n",
    "The training set is used to train the model, allowing it to learn from the data.\n",
    "The test set, however, serves an unbiased role in evaluating the performance of the model.\n",
    "This separation helps in detecting overfitting and assessing the generalizability of the model to new, unseen data.\n",
    "*It is crucial to apply preprocessing steps to the training and test sets independently*.\n",
    "This approach prevents data leakage, where information from the test set inadvertently influences the model training process.\n",
    "\n",
    "2. **Training the random forest classifier**:\n",
    "With our data divided and preprocessed, we will proceed to train a random forest classifier.\n",
    "This model will use the training set to learn the patterns that correlate various dietary and health-related features with reductions in LDL cholesterol.\n",
    "After training, we will assess the performance of the model by calculating the loss on both the training set and the test set.\n",
    "This evaluation helps us understand how well the model has learned from the training data and how it performs on unseen data.\n",
    "\n",
    "3. **Extracting feature importance**\n",
    "Finally, we will extract the feature importances determined by the random forest.\n",
    "These importances reveal which features have the most influence on predicting LDL cholesterol reduction.\n",
    "We will visualize these importances using a plot to easily identify the most significant features according to the model.\n",
    "This insight is valuable for understanding the driving factors behind LDL vcholesterol reduction and could inform further research and decision-making."
   ]
  },
  {
   "cell_type": "markdown",
   "metadata": {},
   "source": [
    "In random forest models, adjusting tree parameters like tree depth and the number of trees is essential for balancing learning depth and prediction stability.\n",
    "Deeper trees can learn more complex patterns, but may overfit, especially with small datasets.\n",
    "More trees improve prediction stability but increase computational load.\n",
    "With our small dataset, preventing overfitting solely through these adjustments is challenging and the feature importance through subsequence runs not very stable."
   ]
  },
  {
   "cell_type": "markdown",
   "metadata": {},
   "source": [
    "### Training a basic random forest model"
   ]
  },
  {
   "cell_type": "markdown",
   "metadata": {},
   "source": [
    "##### ❓ **Q3** &mdash; Training a random forest"
   ]
  },
  {
   "cell_type": "markdown",
   "metadata": {},
   "source": [
    "There are two lines missing from the code below.\n",
    "Complete the code to train the [RandomForestRegressor](https://scikit-learn.org/stable/modules/generated/sklearn.ensemble.RandomForestRegressor.html) and to compute the [validation loss](https://scikit-learn.org/stable/modules/generated/sklearn.metrics.mean_squared_error.html)."
   ]
  },
  {
   "cell_type": "code",
   "execution_count": null,
   "metadata": {},
   "outputs": [],
   "source": [
    "from sklearn.ensemble import RandomForestRegressor\n",
    "from sklearn.metrics import mean_squared_error\n",
    "\n",
    "\n",
    "def random_forest_fit_predict(\n",
    "    X_train: pd.DataFrame,\n",
    "    X_test: pd.DataFrame,\n",
    "    y_train: pd.DataFrame,\n",
    "    y_test: pd.DataFrame,\n",
    "    n_estimators: int,\n",
    "    max_depth: int,\n",
    ") -> tuple[float, float, pd.DataFrame]:\n",
    "    # Random forest training\n",
    "    # YOUR CODE\n",
    "\n",
    "    # Training and validation loss\n",
    "    training_loss = random_forest.score(X=X_train, y=y_train)\n",
    "    validation_loss = # YOUR CODE\n",
    "\n",
    "    # Feature importances\n",
    "    feature_importances = pd.DataFrame(\n",
    "        data={\"feature_importance\": random_forest.feature_importances_},\n",
    "        index=X_train.columns,\n",
    "    )\n",
    "\n",
    "    return training_loss, validation_loss, feature_importances"
   ]
  },
  {
   "cell_type": "code",
   "execution_count": null,
   "metadata": {},
   "outputs": [],
   "source": [
    "def plot_feature_importances(feature_importances: pd.DataFrame) -> None:\n",
    "    sorted_feature_importances = feature_importances.sort_values(\n",
    "        by=\"feature_importance\", ascending=False\n",
    "    )\n",
    "    sorted_feature_importances.plot(kind=\"bar\")"
   ]
  },
  {
   "cell_type": "code",
   "execution_count": null,
   "metadata": {},
   "outputs": [],
   "source": [
    "from sklearn.model_selection import train_test_split\n",
    "\n",
    "\n",
    "dataset = load_dataset(file_path=\"responder.csv\")\n",
    "labels, dataset_preprocessed = preprocess_dataset(dataset=dataset)\n",
    "\n",
    "X_train, X_test, y_train, y_test = train_test_split(\n",
    "    dataset_preprocessed, labels, test_size=0.2\n",
    ")\n",
    "\n",
    "training_loss, validation_loss, feature_importances = random_forest_fit_predict(\n",
    "    X_train=X_train,\n",
    "    X_test=X_test,\n",
    "    y_train=y_train,\n",
    "    y_test=y_test,\n",
    "    n_estimators=500,\n",
    "    max_depth=1,\n",
    ")\n",
    "\n",
    "print(f\"Training loss: {training_loss}\")\n",
    "print(f\"Validation loss: {validation_loss}\")\n",
    "plot_feature_importances(feature_importances=feature_importances)"
   ]
  },
  {
   "cell_type": "markdown",
   "metadata": {},
   "source": [
    "### Stabilizing model predictions and feature importance through a larger ensemble"
   ]
  },
  {
   "cell_type": "markdown",
   "metadata": {},
   "source": [
    "To improve the stability of our random forest model predictions and feature importance assessments, we average results over multiple training iterations.\n",
    "This method reduces the influence of any specific dataset anomalies by training the model several times with varying data subsets or initial conditions. \n",
    "\n",
    "The averaging over the feature importance of multiple trainings can be considered an ensemble prediction of feature importance, just like the random forest is an ensemble prediction of the label.\n",
    "\n",
    "Note: Specifically for random forests, a similar effect could be achieved by increasing the number of trees in the forest.\n",
    "However, other model architectures which do not have a \"forest\" can be used with the following approach as well."
   ]
  },
  {
   "cell_type": "code",
   "execution_count": null,
   "metadata": {},
   "outputs": [],
   "source": [
    "import numpy as np\n",
    "\n",
    "\n",
    "def avg_random_forest_fit_predict(\n",
    "    X_train: pd.DataFrame,\n",
    "    X_test: pd.DataFrame,\n",
    "    y_train: pd.DataFrame,\n",
    "    y_test: pd.DataFrame,\n",
    "    n_estimators: int,\n",
    "    max_depth: int,\n",
    "    n_iterations: int,\n",
    ") -> tuple[float, float, pd.DataFrame]:\n",
    "    total_training_loss = 0\n",
    "    total_validation_loss = 0\n",
    "    total_feature_importances = np.zeros(X_train.shape[1])\n",
    "\n",
    "    for _ in range(n_iterations):\n",
    "        training_loss, validation_loss, feature_importances = random_forest_fit_predict(\n",
    "            X_train=X_train,\n",
    "            X_test=X_test,\n",
    "            y_train=y_train,\n",
    "            y_test=y_test,\n",
    "            n_estimators=n_estimators,\n",
    "            max_depth=max_depth,\n",
    "        )\n",
    "\n",
    "        total_training_loss += training_loss\n",
    "        total_validation_loss += validation_loss\n",
    "        total_feature_importances += feature_importances[\"feature_importance\"].to_list()\n",
    "\n",
    "    avg_training_loss = total_training_loss / n_iterations\n",
    "    avg_validation_loss = total_validation_loss / n_iterations\n",
    "    avg_feature_importances = total_feature_importances / n_iterations\n",
    "\n",
    "    return (\n",
    "        avg_training_loss,\n",
    "        avg_validation_loss,\n",
    "        pd.DataFrame(\n",
    "            data={\"feature_importance\": avg_feature_importances},\n",
    "            index=X_train.columns,\n",
    "        ),\n",
    "    )"
   ]
  },
  {
   "cell_type": "code",
   "execution_count": null,
   "metadata": {},
   "outputs": [],
   "source": [
    "dataset = load_dataset(file_path=\"responder.csv\")\n",
    "labels, dataset_preprocessed = preprocess_dataset(dataset=dataset)\n",
    "\n",
    "X_train, X_test, y_train, y_test = train_test_split(\n",
    "    dataset_preprocessed, labels, test_size=0.2\n",
    ")\n",
    "\n",
    "training_loss, validation_loss, feature_importances = avg_random_forest_fit_predict(\n",
    "    X_train=X_train,\n",
    "    X_test=X_test,\n",
    "    y_train=y_train,\n",
    "    y_test=y_test,\n",
    "    n_estimators=50,\n",
    "    max_depth=1,\n",
    "    n_iterations=10,\n",
    ")\n",
    "\n",
    "print(f\"Training loss: {training_loss}\")\n",
    "print(f\"Validation loss: {validation_loss}\")\n",
    "plot_feature_importances(feature_importances=feature_importances)"
   ]
  },
  {
   "cell_type": "markdown",
   "metadata": {},
   "source": [
    "### Stabilizing feature importance through multiple data splits"
   ]
  },
  {
   "cell_type": "markdown",
   "metadata": {},
   "source": [
    "To further enhance the stability of feature importance assessments, we average the importance scores across multiple training and testing splits.\n",
    "This method minimizes the impact of variations from any single dataset configuration, ensuring a more consistent and dependable evaluation of which features most significantly influence the model's predictions.\n",
    "This is especially important on small datasets, as small differences in splits can significantly change the distribution.\n",
    "\n",
    "Note: While this does not improve the predictions of the model, it can greatly improve our \"meta knowledge\" about the model and training, e.g., the average amount of overfitting or the average feature importance."
   ]
  },
  {
   "cell_type": "code",
   "execution_count": null,
   "metadata": {},
   "outputs": [],
   "source": [
    "def multisplit_avg_random_forest_fit_predict(\n",
    "    X_train: pd.DataFrame,\n",
    "    y_train: pd.DataFrame,\n",
    "    n_estimators: int,\n",
    "    max_depth: int,\n",
    "    n_forest_iterations: int,\n",
    "    n_dataset_iterations: int,\n",
    ") -> tuple[float, float, pd.DataFrame]:\n",
    "    total_training_loss = 0\n",
    "    total_validation_loss = 0\n",
    "    total_feature_importances = np.zeros(X_train.shape[1])\n",
    "\n",
    "    for _ in range(n_dataset_iterations):\n",
    "        X_train_local, X_val_local, y_train_local, y_val_local = train_test_split(\n",
    "            X_train, y_train, test_size=0.2\n",
    "        )\n",
    "\n",
    "        training_loss, validation_loss, feature_importances = (\n",
    "            avg_random_forest_fit_predict(\n",
    "                X_train=X_train_local,\n",
    "                X_test=X_val_local,\n",
    "                y_train=y_train_local,\n",
    "                y_test=y_val_local,\n",
    "                n_estimators=n_estimators,\n",
    "                max_depth=max_depth,\n",
    "                n_iterations=n_forest_iterations,\n",
    "            )\n",
    "        )\n",
    "\n",
    "        total_training_loss += training_loss\n",
    "        total_validation_loss += validation_loss\n",
    "        total_feature_importances += feature_importances[\"feature_importance\"].to_list()\n",
    "\n",
    "    avg_training_loss = total_training_loss / n_dataset_iterations\n",
    "    avg_validation_loss = total_validation_loss / n_dataset_iterations\n",
    "    avg_feature_importances = total_feature_importances / n_dataset_iterations\n",
    "\n",
    "    return (\n",
    "        avg_training_loss,\n",
    "        avg_validation_loss,\n",
    "        pd.DataFrame(\n",
    "            data={\"feature_importance\": avg_feature_importances},\n",
    "            index=X_train.columns,\n",
    "        ),\n",
    "    )"
   ]
  },
  {
   "cell_type": "code",
   "execution_count": null,
   "metadata": {},
   "outputs": [],
   "source": [
    "dataset = load_dataset(file_path=\"responder.csv\")\n",
    "labels, dataset_preprocessed = preprocess_dataset(dataset=dataset)\n",
    "\n",
    "X_train, X_test, y_train, y_test = train_test_split(\n",
    "    dataset_preprocessed, labels, test_size=0.2\n",
    ")\n",
    "\n",
    "training_loss, validation_loss, feature_importances = (\n",
    "    multisplit_avg_random_forest_fit_predict(\n",
    "        X_train=X_train,\n",
    "        y_train=y_train,\n",
    "        n_estimators=50,\n",
    "        max_depth=1,\n",
    "        n_forest_iterations=10,\n",
    "        n_dataset_iterations=10,\n",
    "    )\n",
    ")\n",
    "\n",
    "print(f\"Training loss: {training_loss}\")\n",
    "print(f\"Validation loss: {validation_loss}\")\n",
    "plot_feature_importances(feature_importances=feature_importances)"
   ]
  },
  {
   "cell_type": "markdown",
   "metadata": {},
   "source": [
    "### Iteratively dropping least significant features"
   ]
  },
  {
   "cell_type": "markdown",
   "metadata": {},
   "source": [
    "In this experiment, we systematically drop the least significant features from our model based on their importance scores to evaluate the impact on model performance. Starting with all features, we train the model, assess feature importance, and then remove the feature with the lowest importance score. This process is repeated, each time training the model with one fewer feature. This helps to establish a rank between the features. In the case of a usable model prediction, a sudden drop in model performance can also indicate an optimal number of features."
   ]
  },
  {
   "cell_type": "code",
   "execution_count": null,
   "metadata": {},
   "outputs": [],
   "source": [
    "def drop_feature_experiment():\n",
    "    dataset = load_dataset(file_path=\"responder.csv\")\n",
    "    labels, dataset_preprocessed = preprocess_dataset(dataset=dataset)\n",
    "\n",
    "    X_train, X_test, y_train, y_test = train_test_split(\n",
    "        dataset_preprocessed, labels, test_size=0.2\n",
    "    )\n",
    "\n",
    "    results = []\n",
    "    feature_names = X_train.columns.tolist()\n",
    "    feature_drop_iterations = {feature: [] for feature in X_train.columns}\n",
    "\n",
    "    while len(feature_names) >= 1:\n",
    "        training_loss, validation_loss, feature_importances = (\n",
    "            multisplit_avg_random_forest_fit_predict(\n",
    "                X_train=X_train[feature_names],\n",
    "                y_train=y_train,\n",
    "                n_estimators=20,\n",
    "                max_depth=1,\n",
    "                n_forest_iterations=5,\n",
    "                n_dataset_iterations=5,\n",
    "            )\n",
    "        )\n",
    "\n",
    "        results.append((training_loss, validation_loss, feature_names))\n",
    "\n",
    "        # Drop the feature with the lowest importance\n",
    "        least_important_feature = feature_names[np.argmin(feature_importances)]\n",
    "        feature_names.remove(least_important_feature)\n",
    "        feature_drop_iterations[least_important_feature].append(len(feature_names))\n",
    "\n",
    "        print(\n",
    "            f\"Features left: {len(feature_names):2}. \"\n",
    "            f\"Training loss: {training_loss:.6f}. \"\n",
    "            f\"Validation loss: {validation_loss:.6f}. \"\n",
    "            f\"Feature eliminated: {least_important_feature}.\"\n",
    "        )\n",
    "\n",
    "    return feature_drop_iterations"
   ]
  },
  {
   "cell_type": "code",
   "execution_count": null,
   "metadata": {},
   "outputs": [],
   "source": [
    "drop_feature_experiment()"
   ]
  },
  {
   "cell_type": "markdown",
   "metadata": {},
   "source": [
    "### Average feature rankings"
   ]
  },
  {
   "cell_type": "markdown",
   "metadata": {},
   "source": [
    "By repeatedly executing the experiment of dropping the least significant features and averaging their ranks across multiple iterations, we can establish a stable ranking of feature importance.\n",
    "This method involves training the model multiple times, each time removing a feature based on its assessed importance from the previous iteration and recording the rank at which each feature is dropped.\n",
    "\n",
    "To visualize the stability and variability of these rankings, we can use box plots.\n",
    "Each feature's rank across different iterations is represented in a box plot, showing the median rank, the interquartile range, and any outliers.\n",
    "This visualization helps us understand how consistently a feature is valued across multiple models and indicates the robustness of each feature's ranking."
   ]
  },
  {
   "cell_type": "code",
   "execution_count": null,
   "metadata": {},
   "outputs": [],
   "source": [
    "def avg_drop_feature_experiment(n_runs: int) -> Dict:\n",
    "    # Initialize a dictionary to store iteration counts for each feature\n",
    "    feature_drop_counts = {}\n",
    "\n",
    "    # Run the experiment multiple times\n",
    "    for i in range(n_runs):\n",
    "        print(f\"Experiment {i+1}/{n_runs}\")\n",
    "\n",
    "        curr_feature_drop_iterations = drop_feature_experiment()\n",
    "\n",
    "        for feature, iteration in curr_feature_drop_iterations.items():\n",
    "            if feature in feature_drop_counts:\n",
    "                feature_drop_counts[feature].extend(iteration)\n",
    "            else:\n",
    "                feature_drop_counts[feature] = iteration\n",
    "\n",
    "    return feature_drop_counts"
   ]
  },
  {
   "cell_type": "code",
   "execution_count": null,
   "metadata": {},
   "outputs": [],
   "source": [
    "feature_drop_counts = avg_drop_feature_experiment(n_runs=10)"
   ]
  },
  {
   "cell_type": "code",
   "execution_count": null,
   "metadata": {},
   "outputs": [],
   "source": [
    "import matplotlib.pyplot as plt\n",
    "\n",
    "\n",
    "sorted_feature_drop_counts = sorted(\n",
    "    feature_drop_counts.items(), key=lambda item: np.median(item[1])\n",
    ")\n",
    "features_sorted, drop_counts_sorted = zip(*sorted_feature_drop_counts)\n",
    "\n",
    "plt.boxplot(x=drop_counts_sorted, labels=features_sorted, patch_artist=True)\n",
    "plt.xticks(rotation=90)\n",
    "plt.show()"
   ]
  }
 ],
 "metadata": {
  "kernelspec": {
   "display_name": "Python 3 (ipykernel)",
   "language": "python",
   "name": "python3"
  },
  "language_info": {
   "codemirror_mode": {
    "name": "ipython",
    "version": 3
   },
   "file_extension": ".py",
   "mimetype": "text/x-python",
   "name": "python",
   "nbconvert_exporter": "python",
   "pygments_lexer": "ipython3",
   "version": "3.12.2"
  }
 },
 "nbformat": 4,
 "nbformat_minor": 4
}
